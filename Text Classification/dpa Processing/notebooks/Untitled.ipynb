{
 "cells": [
  {
   "cell_type": "code",
   "execution_count": 6,
   "id": "72e4fcbe",
   "metadata": {},
   "outputs": [
    {
     "name": "stdout",
     "output_type": "stream",
     "text": [
      "--- Data and Rules Loaded Successfully ---\n",
      "<class 'pandas.core.frame.DataFrame'>\n",
      "RangeIndex: 592294 entries, 0 to 592293\n",
      "Data columns (total 7 columns):\n",
      " #   Column            Non-Null Count   Dtype \n",
      "---  ------            --------------   ----- \n",
      " 0   urn               592294 non-null  object\n",
      " 1   version           592294 non-null  int64 \n",
      " 2   version_created   592294 non-null  object\n",
      " 3   title             592294 non-null  object\n",
      " 4   dateline_content  556676 non-null  object\n",
      " 5   texts             592294 non-null  object\n",
      " 6   word_count        592294 non-null  int64 \n",
      "dtypes: int64(2), object(5)\n",
      "memory usage: 31.6+ MB\n"
     ]
    }
   ],
   "source": [
    "import pandas as pd\n",
    "import yaml\n",
    "\n",
    "input_file = '../data/02_cleaned_articles.csv'\n",
    "\n",
    "df = pd.read_csv(input_file)\n",
    "with open('../config/dpa_rules.yaml', 'r', encoding='utf-8') as f:\n",
    "    rules = yaml.safe_load(f)\n",
    "\n",
    "print(\"--- Data and Rules Loaded Successfully ---\")\n",
    "df.info()"
   ]
  },
  {
   "cell_type": "code",
   "execution_count": 7,
   "id": "10840d76",
   "metadata": {},
   "outputs": [
    {
     "name": "stdout",
     "output_type": "stream",
     "text": [
      "--- First 10 Titles in the DataFrame ---\n",
      "0    Feuerwerk und Geläut von Big Ben: Londoner fei...\n",
      "1    «Welcome 2019»: Friedliche Riesenparty am Bran...\n",
      "2                                    Neuerscheinungen \n",
      "3    Perfides Spiel hinter den Kulissen: Robert Gal...\n",
      "4    Worte sind frei - «Morgengrauen» von Selahatti...\n",
      "5    «Ein Jahrhundert in Bewegung»: Fontane als Rep...\n",
      "6    Verletzter Del Potro verpasst auch Australian ...\n",
      "7    Göring-Eckardt: Bundesbehörden nur noch in Ost...\n",
      "8    Alternde Rockstars: Kiss werden die Kostüme zu...\n",
      "9    Hans für Dienstpflicht für junge Männer und Fr...\n",
      "Name: title, dtype: object\n"
     ]
    }
   ],
   "source": [
    "print(\"--- First 10 Titles in the DataFrame ---\")\n",
    "print(df['title'].head(10))"
   ]
  },
  {
   "cell_type": "code",
   "execution_count": 8,
   "id": "cb3a3ac8",
   "metadata": {},
   "outputs": [
    {
     "name": "stdout",
     "output_type": "stream",
     "text": [
      "--- Regex pattern being used to find multi-part articles ---\n",
      "dpa-Nachrichtenüberblick|Nachrichtenüberblick|Kurznachrichten Wirtschaft|Kurnachrichten Wirtschaft|Analysten-Einstufungen|ANALYSTEN-EINSTUFENGEN\n",
      "\n",
      "--- DEBUGGING RESULTS ---\n",
      "Number of titles that matched the multi-part article pattern: 8003\n",
      "\n",
      "--- Matched Titles ---\n",
      "['dpa-Nachrichtenüberblick PANORAMA, Dienstag, 01.01.2019 - 16.45 Uhr'\n",
      " 'dpa-Nachrichtenüberblick POLITIK, Dienstag, 1.1.2019 - 18.00 Uhr'\n",
      " 'dpa-Nachrichtenüberblick PANORAMA, Mittwoch, 2.01.2019 - 5.00 Uhr' ...\n",
      " 'dpa-Nachrichtenüberblick POLITIK, Samstag, 30. Dezember 2023, 18 Uhr'\n",
      " 'dpa-Nachrichtenüberblick PANORAMA, Sonntag, 31.12.2023, 16.30 Uhr'\n",
      " 'dpa-Nachrichtenüberblick POLITIK, Sonntag, 31. Dezember 2023, 18 Uhr']\n"
     ]
    }
   ],
   "source": [
    "s_mult_art = '|'.join(rules['multi_article_split_titles'])\n",
    "\n",
    "print(\"--- Regex pattern being used to find multi-part articles ---\")\n",
    "print(s_mult_art)\n",
    "\n",
    "mult_art_mask = df['title'].astype(str).str.contains(s_mult_art, na=False, case=False)\n",
    "num_matches = mult_art_mask.sum()\n",
    "\n",
    "print(f\"\\n--- DEBUGGING RESULTS ---\")\n",
    "print(f\"Number of titles that matched the multi-part article pattern: {num_matches}\")\n",
    "\n",
    "# Display the unique titles that it found\n",
    "if num_matches > 0:\n",
    "    print(\"\\n--- Matched Titles ---\")\n",
    "    print(df[mult_art_mask]['title'].unique())"
   ]
  },
  {
   "cell_type": "code",
   "execution_count": null,
   "id": "028682a6",
   "metadata": {},
   "outputs": [],
   "source": []
  }
 ],
 "metadata": {
  "kernelspec": {
   "display_name": "Python 3 (ipykernel)",
   "language": "python",
   "name": "python3"
  },
  "language_info": {
   "codemirror_mode": {
    "name": "ipython",
    "version": 3
   },
   "file_extension": ".py",
   "mimetype": "text/x-python",
   "name": "python",
   "nbconvert_exporter": "python",
   "pygments_lexer": "ipython3",
   "version": "3.9.16"
  }
 },
 "nbformat": 4,
 "nbformat_minor": 5
}
