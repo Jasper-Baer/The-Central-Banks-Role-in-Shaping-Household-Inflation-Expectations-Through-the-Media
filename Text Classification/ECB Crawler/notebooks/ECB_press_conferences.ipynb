{
 "cells": [
  {
   "cell_type": "code",
   "execution_count": 2,
   "id": "0d1ff10f",
   "metadata": {},
   "outputs": [],
   "source": [
    "import pandas as pd\n",
    "import json\n",
    "import yaml\n",
    "import sys\n",
    "import os\n",
    "\n",
    "data_file_path = '../data/press_conferences.json'"
   ]
  },
  {
   "cell_type": "code",
   "execution_count": 3,
   "id": "f96de9e1",
   "metadata": {},
   "outputs": [],
   "source": [
    "with open(data_file_path, 'r', encoding='utf-8') as f:\n",
    "    json_string = json.load(f)\n",
    "    \n",
    "df = pd.read_json(json_string)"
   ]
  },
  {
   "cell_type": "code",
   "execution_count": 4,
   "id": "0d61a458",
   "metadata": {},
   "outputs": [
    {
     "data": {
      "text/html": [
       "<div>\n",
       "<style scoped>\n",
       "    .dataframe tbody tr th:only-of-type {\n",
       "        vertical-align: middle;\n",
       "    }\n",
       "\n",
       "    .dataframe tbody tr th {\n",
       "        vertical-align: top;\n",
       "    }\n",
       "\n",
       "    .dataframe thead th {\n",
       "        text-align: right;\n",
       "    }\n",
       "</style>\n",
       "<table border=\"1\" class=\"dataframe\">\n",
       "  <thead>\n",
       "    <tr style=\"text-align: right;\">\n",
       "      <th></th>\n",
       "      <th>Texts</th>\n",
       "      <th>Author</th>\n",
       "      <th>Date</th>\n",
       "      <th>urls</th>\n",
       "      <th>years</th>\n",
       "    </tr>\n",
       "  </thead>\n",
       "  <tbody>\n",
       "    <tr>\n",
       "      <th>0</th>\n",
       "      <td>[Frankfurt am Main, 24 July 2025    , Good aft...</td>\n",
       "      <td>Christine Lagarde, President of the ECB,Luis d...</td>\n",
       "      <td>24 July 2025</td>\n",
       "      <td>https://www.ecb.europa.eu/press/press_conferen...</td>\n",
       "      <td>2025</td>\n",
       "    </tr>\n",
       "    <tr>\n",
       "      <th>1</th>\n",
       "      <td>[Frankfurt am Main, 5 June 2025    , Good afte...</td>\n",
       "      <td>Christine Lagarde, President of the ECB,Luis d...</td>\n",
       "      <td>5 June 2025</td>\n",
       "      <td>https://www.ecb.europa.eu/press/press_conferen...</td>\n",
       "      <td>2025</td>\n",
       "    </tr>\n",
       "    <tr>\n",
       "      <th>2</th>\n",
       "      <td>[Frankfurt am Main, 17 April 2025    , Good af...</td>\n",
       "      <td>Christine Lagarde, President of the ECB,Luis d...</td>\n",
       "      <td>17 April 2025</td>\n",
       "      <td>https://www.ecb.europa.eu/press/press_conferen...</td>\n",
       "      <td>2025</td>\n",
       "    </tr>\n",
       "    <tr>\n",
       "      <th>3</th>\n",
       "      <td>[Frankfurt am Main, 6 March 2025    , Good aft...</td>\n",
       "      <td>Christine Lagarde, President of the ECB,Luis d...</td>\n",
       "      <td>6 March 2025</td>\n",
       "      <td>https://www.ecb.europa.eu/press/press_conferen...</td>\n",
       "      <td>2025</td>\n",
       "    </tr>\n",
       "    <tr>\n",
       "      <th>4</th>\n",
       "      <td>[Frankfurt am Main, 30 January 2025    , Good ...</td>\n",
       "      <td>Christine Lagarde, President of the ECB,Luis d...</td>\n",
       "      <td>30 January 2025</td>\n",
       "      <td>https://www.ecb.europa.eu/press/press_conferen...</td>\n",
       "      <td>2025</td>\n",
       "    </tr>\n",
       "  </tbody>\n",
       "</table>\n",
       "</div>"
      ],
      "text/plain": [
       "                                               Texts   \n",
       "0  [Frankfurt am Main, 24 July 2025    , Good aft...  \\\n",
       "1  [Frankfurt am Main, 5 June 2025    , Good afte...   \n",
       "2  [Frankfurt am Main, 17 April 2025    , Good af...   \n",
       "3  [Frankfurt am Main, 6 March 2025    , Good aft...   \n",
       "4  [Frankfurt am Main, 30 January 2025    , Good ...   \n",
       "\n",
       "                                              Author             Date   \n",
       "0  Christine Lagarde, President of the ECB,Luis d...     24 July 2025  \\\n",
       "1  Christine Lagarde, President of the ECB,Luis d...      5 June 2025   \n",
       "2  Christine Lagarde, President of the ECB,Luis d...    17 April 2025   \n",
       "3  Christine Lagarde, President of the ECB,Luis d...     6 March 2025   \n",
       "4  Christine Lagarde, President of the ECB,Luis d...  30 January 2025   \n",
       "\n",
       "                                                urls  years  \n",
       "0  https://www.ecb.europa.eu/press/press_conferen...   2025  \n",
       "1  https://www.ecb.europa.eu/press/press_conferen...   2025  \n",
       "2  https://www.ecb.europa.eu/press/press_conferen...   2025  \n",
       "3  https://www.ecb.europa.eu/press/press_conferen...   2025  \n",
       "4  https://www.ecb.europa.eu/press/press_conferen...   2025  "
      ]
     },
     "execution_count": 4,
     "metadata": {},
     "output_type": "execute_result"
    }
   ],
   "source": [
    "df.head()"
   ]
  },
  {
   "cell_type": "code",
   "execution_count": 8,
   "id": "ee649bdd",
   "metadata": {},
   "outputs": [],
   "source": [
    "final_data_path = '../data/ECB_sents_prepared.xlsx'\n",
    "df_clean = pd.read_excel(final_data_path)"
   ]
  },
  {
   "cell_type": "code",
   "execution_count": 9,
   "id": "00f4248c",
   "metadata": {},
   "outputs": [],
   "source": [
    "df_clean.head()"
   ]
  },
  {
   "cell_type": "code",
   "execution_count": 10,
   "id": "73489367",
   "metadata": {},
   "outputs": [
    {
     "name": "stdout",
     "output_type": "stream",
     "text": [
      "Starting text processing pipeline...\n"
     ]
    },
    {
     "name": "stderr",
     "output_type": "stream",
     "text": [
      "Splitting Speech/QA: 100%|████████████████████████████████████████████████████████| 289/289 [00:00<00:00, 10732.44it/s]\n"
     ]
    },
    {
     "name": "stdout",
     "output_type": "stream",
     "text": [
      "Applying custom cleaning and tokenization pipeline...\n"
     ]
    },
    {
     "name": "stderr",
     "output_type": "stream",
     "text": [
      "Cleaning and Tokenizing: 100%|███████████████████████████████████████████████████████| 289/289 [00:07<00:00, 37.42it/s]"
     ]
    },
    {
     "name": "stdout",
     "output_type": "stream",
     "text": [
      "Processing pipeline complete.\n"
     ]
    },
    {
     "name": "stderr",
     "output_type": "stream",
     "text": [
      "\n"
     ]
    }
   ],
   "source": []
  },
  {
   "cell_type": "code",
   "execution_count": 12,
   "id": "e98065f9",
   "metadata": {},
   "outputs": [
    {
     "data": {
      "text/html": [
       "<div>\n",
       "<style scoped>\n",
       "    .dataframe tbody tr th:only-of-type {\n",
       "        vertical-align: middle;\n",
       "    }\n",
       "\n",
       "    .dataframe tbody tr th {\n",
       "        vertical-align: top;\n",
       "    }\n",
       "\n",
       "    .dataframe thead th {\n",
       "        text-align: right;\n",
       "    }\n",
       "</style>\n",
       "<table border=\"1\" class=\"dataframe\">\n",
       "  <thead>\n",
       "    <tr style=\"text-align: right;\">\n",
       "      <th></th>\n",
       "      <th>Texts</th>\n",
       "      <th>Author</th>\n",
       "      <th>Date</th>\n",
       "      <th>urls</th>\n",
       "      <th>years</th>\n",
       "      <th>clean press cons</th>\n",
       "      <th>press sent</th>\n",
       "      <th>speeches</th>\n",
       "      <th>QA</th>\n",
       "      <th>tokens</th>\n",
       "    </tr>\n",
       "  </thead>\n",
       "  <tbody>\n",
       "    <tr>\n",
       "      <th>0</th>\n",
       "      <td>[Frankfurt am Main, 24 July 2025    , Good aft...</td>\n",
       "      <td>Christine Lagarde, President of the ECB,Luis d...</td>\n",
       "      <td>24 July 2025</td>\n",
       "      <td>https://www.ecb.europa.eu/press/press_conferen...</td>\n",
       "      <td>2025</td>\n",
       "      <td>Frankfurt am Main, 24 July 2025     Good after...</td>\n",
       "      <td>[The Governing Council today decided to keep t...</td>\n",
       "      <td>[The Governing Council today decided to keep t...</td>\n",
       "      <td>[We are now ready to take your questions., * *...</td>\n",
       "      <td>[govern, council, today, decid, keep, three, k...</td>\n",
       "    </tr>\n",
       "    <tr>\n",
       "      <th>1</th>\n",
       "      <td>[Frankfurt am Main, 5 June 2025    , Good afte...</td>\n",
       "      <td>Christine Lagarde, President of the ECB,Luis d...</td>\n",
       "      <td>5 June 2025</td>\n",
       "      <td>https://www.ecb.europa.eu/press/press_conferen...</td>\n",
       "      <td>2025</td>\n",
       "      <td>Frankfurt am Main, 5 June 2025     Good aftern...</td>\n",
       "      <td>[The Governing Council today decided to lower ...</td>\n",
       "      <td>[The Governing Council today decided to lower ...</td>\n",
       "      <td>[We are now ready to take your questions., * *...</td>\n",
       "      <td>[govern, council, today, decid, lower, three, ...</td>\n",
       "    </tr>\n",
       "    <tr>\n",
       "      <th>2</th>\n",
       "      <td>[Frankfurt am Main, 17 April 2025    , Good af...</td>\n",
       "      <td>Christine Lagarde, President of the ECB,Luis d...</td>\n",
       "      <td>17 April 2025</td>\n",
       "      <td>https://www.ecb.europa.eu/press/press_conferen...</td>\n",
       "      <td>2025</td>\n",
       "      <td>Frankfurt am Main, 17 April 2025     Good afte...</td>\n",
       "      <td>[The Governing Council today decided to lower ...</td>\n",
       "      <td>[The Governing Council today decided to lower ...</td>\n",
       "      <td>[We are now ready to take your questions., * *...</td>\n",
       "      <td>[govern, council, today, decid, lower, three, ...</td>\n",
       "    </tr>\n",
       "    <tr>\n",
       "      <th>3</th>\n",
       "      <td>[Frankfurt am Main, 6 March 2025    , Good aft...</td>\n",
       "      <td>Christine Lagarde, President of the ECB,Luis d...</td>\n",
       "      <td>6 March 2025</td>\n",
       "      <td>https://www.ecb.europa.eu/press/press_conferen...</td>\n",
       "      <td>2025</td>\n",
       "      <td>Frankfurt am Main, 6 March 2025     Good after...</td>\n",
       "      <td>[The Governing Council today decided to lower ...</td>\n",
       "      <td>[The Governing Council today decided to lower ...</td>\n",
       "      <td>[We are now ready to take your questions., * *...</td>\n",
       "      <td>[govern, council, today, decid, lower, three, ...</td>\n",
       "    </tr>\n",
       "    <tr>\n",
       "      <th>4</th>\n",
       "      <td>[Frankfurt am Main, 30 January 2025    , Good ...</td>\n",
       "      <td>Christine Lagarde, President of the ECB,Luis d...</td>\n",
       "      <td>30 January 2025</td>\n",
       "      <td>https://www.ecb.europa.eu/press/press_conferen...</td>\n",
       "      <td>2025</td>\n",
       "      <td>Frankfurt am Main, 30 January 2025     Good af...</td>\n",
       "      <td>[The Governing Council today decided to lower ...</td>\n",
       "      <td>[The Governing Council today decided to lower ...</td>\n",
       "      <td>[We are now ready to take your questions., * *...</td>\n",
       "      <td>[govern, council, today, decid, lower, three, ...</td>\n",
       "    </tr>\n",
       "  </tbody>\n",
       "</table>\n",
       "</div>"
      ],
      "text/plain": [
       "                                               Texts   \n",
       "0  [Frankfurt am Main, 24 July 2025    , Good aft...  \\\n",
       "1  [Frankfurt am Main, 5 June 2025    , Good afte...   \n",
       "2  [Frankfurt am Main, 17 April 2025    , Good af...   \n",
       "3  [Frankfurt am Main, 6 March 2025    , Good aft...   \n",
       "4  [Frankfurt am Main, 30 January 2025    , Good ...   \n",
       "\n",
       "                                              Author             Date   \n",
       "0  Christine Lagarde, President of the ECB,Luis d...     24 July 2025  \\\n",
       "1  Christine Lagarde, President of the ECB,Luis d...      5 June 2025   \n",
       "2  Christine Lagarde, President of the ECB,Luis d...    17 April 2025   \n",
       "3  Christine Lagarde, President of the ECB,Luis d...     6 March 2025   \n",
       "4  Christine Lagarde, President of the ECB,Luis d...  30 January 2025   \n",
       "\n",
       "                                                urls  years   \n",
       "0  https://www.ecb.europa.eu/press/press_conferen...   2025  \\\n",
       "1  https://www.ecb.europa.eu/press/press_conferen...   2025   \n",
       "2  https://www.ecb.europa.eu/press/press_conferen...   2025   \n",
       "3  https://www.ecb.europa.eu/press/press_conferen...   2025   \n",
       "4  https://www.ecb.europa.eu/press/press_conferen...   2025   \n",
       "\n",
       "                                    clean press cons   \n",
       "0  Frankfurt am Main, 24 July 2025     Good after...  \\\n",
       "1  Frankfurt am Main, 5 June 2025     Good aftern...   \n",
       "2  Frankfurt am Main, 17 April 2025     Good afte...   \n",
       "3  Frankfurt am Main, 6 March 2025     Good after...   \n",
       "4  Frankfurt am Main, 30 January 2025     Good af...   \n",
       "\n",
       "                                          press sent   \n",
       "0  [The Governing Council today decided to keep t...  \\\n",
       "1  [The Governing Council today decided to lower ...   \n",
       "2  [The Governing Council today decided to lower ...   \n",
       "3  [The Governing Council today decided to lower ...   \n",
       "4  [The Governing Council today decided to lower ...   \n",
       "\n",
       "                                            speeches   \n",
       "0  [The Governing Council today decided to keep t...  \\\n",
       "1  [The Governing Council today decided to lower ...   \n",
       "2  [The Governing Council today decided to lower ...   \n",
       "3  [The Governing Council today decided to lower ...   \n",
       "4  [The Governing Council today decided to lower ...   \n",
       "\n",
       "                                                  QA   \n",
       "0  [We are now ready to take your questions., * *...  \\\n",
       "1  [We are now ready to take your questions., * *...   \n",
       "2  [We are now ready to take your questions., * *...   \n",
       "3  [We are now ready to take your questions., * *...   \n",
       "4  [We are now ready to take your questions., * *...   \n",
       "\n",
       "                                              tokens  \n",
       "0  [govern, council, today, decid, keep, three, k...  \n",
       "1  [govern, council, today, decid, lower, three, ...  \n",
       "2  [govern, council, today, decid, lower, three, ...  \n",
       "3  [govern, council, today, decid, lower, three, ...  \n",
       "4  [govern, council, today, decid, lower, three, ...  "
      ]
     },
     "execution_count": 12,
     "metadata": {},
     "output_type": "execute_result"
    }
   ],
   "source": []
  },
  {
   "cell_type": "code",
   "execution_count": null,
   "id": "915eb5e4",
   "metadata": {},
   "outputs": [],
   "source": []
  }
 ],
 "metadata": {
  "kernelspec": {
   "display_name": "Python 3 (ipykernel)",
   "language": "python",
   "name": "python3"
  },
  "language_info": {
   "codemirror_mode": {
    "name": "ipython",
    "version": 3
   },
   "file_extension": ".py",
   "mimetype": "text/x-python",
   "name": "python",
   "nbconvert_exporter": "python",
   "pygments_lexer": "ipython3",
   "version": "3.9.16"
  }
 },
 "nbformat": 4,
 "nbformat_minor": 5
}
